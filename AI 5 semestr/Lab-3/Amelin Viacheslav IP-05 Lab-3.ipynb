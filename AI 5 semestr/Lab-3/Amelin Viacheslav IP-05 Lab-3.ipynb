{
 "cells": [
  {
   "attachments": {},
   "cell_type": "markdown",
   "metadata": {},
   "source": [
    "# lab 3 Amelin Viacheslav IP-05\n",
    "Develop an intelligent agent-machine that moves along the graph-path from the previous laboratory work according to the given rules and goal. Gain practical skills in working with intelligent agents."
   ]
  },
  {
   "cell_type": "code",
   "execution_count": 10,
   "metadata": {},
   "outputs": [],
   "source": [
    "import networkx as nx\n",
    "import matplotlib.pyplot as plt\n",
    "import random"
   ]
  },
  {
   "cell_type": "markdown",
   "metadata": {},
   "source": [
    "#### Size road"
   ]
  },
  {
   "cell_type": "code",
   "execution_count": 11,
   "metadata": {},
   "outputs": [],
   "source": [
    "size = 5\n",
    "delete = 9"
   ]
  },
  {
   "cell_type": "markdown",
   "metadata": {},
   "source": [
    "#### Check Error"
   ]
  },
  {
   "cell_type": "code",
   "execution_count": 12,
   "metadata": {},
   "outputs": [],
   "source": [
    "if(size < 2):\n",
    "    raise ValueError(\"size must be greater than 1\")\n",
    "maxDelete = (2**(size-1)) + 2\n",
    "if(maxDelete < delete):\n",
    "    raise ValueError(f\"removal should be no more than, {maxDelete}\")"
   ]
  },
  {
   "cell_type": "markdown",
   "metadata": {},
   "source": [
    "## Algorithm\n",
    "  "
   ]
  },
  {
   "cell_type": "markdown",
   "metadata": {},
   "source": [
    "#### Creating and modifying a graph"
   ]
  },
  {
   "cell_type": "code",
   "execution_count": 13,
   "metadata": {},
   "outputs": [],
   "source": [
    "G = nx.grid_2d_graph(size, size)\n",
    "\n",
    "count = 0\n",
    "nodeList = list(G.nodes())\n",
    "\n",
    "while count < delete:\n",
    "    randomEdgeCol = random.randint(-1, 1)\n",
    "    randomEdgeRow = random.randint(-1, 1)\n",
    "    \n",
    "    randomNode = random.choice(nodeList)\n",
    "    nodeCol, nodeRow = randomNode[0] + randomEdgeCol, randomNode[1] + randomEdgeRow\n",
    "    \n",
    "    if(G.has_edge(randomNode, (nodeCol, nodeRow))): \n",
    "        G.remove_edge(randomNode, (nodeCol, nodeRow))\n",
    "        if not nx.is_connected(G):\n",
    "            G.add_edge(randomNode, (nodeCol, nodeRow))\n",
    "        else: count += 1"
   ]
  },
  {
   "cell_type": "markdown",
   "metadata": {},
   "source": [
    "#### Load graph"
   ]
  },
  {
   "cell_type": "code",
   "execution_count": 14,
   "metadata": {},
   "outputs": [
    {
     "data": {
      "image/png": "[encoded data removed]",
      "text/plain": [
       "<Figure size 500x500 with 1 Axes>"
      ]
     },
     "metadata": {},
     "output_type": "display_data"
    }
   ],
   "source": [
    "plt.figure(figsize=(5,5))\n",
    "pos = {(x,y):(y,-x) for x,y in G.nodes()}\n",
    "nx.draw(G, pos, with_labels=(pos, pos), node_size=50)"
   ]
  },
  {
   "cell_type": "markdown",
   "metadata": {},
   "source": [
    "#### Enter start and end coordinates"
   ]
  },
  {
   "cell_type": "code",
   "execution_count": 15,
   "metadata": {},
   "outputs": [],
   "source": [
    "start_cord = (0, 0)\n",
    "end_cord = (4, 4)"
   ]
  },
  {
   "cell_type": "markdown",
   "metadata": {},
   "source": [
    "#### Check Error"
   ]
  },
  {
   "cell_type": "code",
   "execution_count": 16,
   "metadata": {},
   "outputs": [],
   "source": [
    "if((size, size) <= end_cord and (size, size) <= start_cord):\n",
    "  raise ValueError(f\"Should be less {size}\")\n",
    "\n",
    "if(end_cord > (0, 0) and start_cord > (0, 0)):\n",
    "  raise ValueError(\"Must be greater than zero\")"
   ]
  },
  {
   "cell_type": "markdown",
   "metadata": {},
   "source": [
    "### Agent"
   ]
  },
  {
   "cell_type": "code",
   "execution_count": 17,
   "metadata": {},
   "outputs": [
    {
     "name": "stdout",
     "output_type": "stream",
     "text": [
      "(0, 0) => (0, 1)\n",
      "(0, 0) => (0, 1) => (0, 2)\n",
      "(0, 0) => (0, 1) => (0, 2) => (0, 3)\n",
      "(0, 0) => (0, 1) => (0, 2) => (0, 3) => (0, 4)\n",
      "(0, 0) => (0, 1) => (0, 2) => (0, 3) => (0, 4) => (1, 4)\n",
      "(0, 0) => (0, 1) => (0, 2) => (0, 3) => (0, 4) => (1, 4) => (1, 3)\n",
      "(0, 0) => (0, 1) => (0, 2) => (0, 3) => (0, 4) => (1, 4) => (1, 3) => (1, 2)\n",
      "(0, 0) => (0, 1) => (0, 2) => (0, 3) => (0, 4) => (1, 4) => (1, 3) => (1, 2) => (1, 1)\n",
      "(0, 0) => (0, 1) => (0, 2) => (0, 3) => (0, 4) => (1, 4) => (1, 3) => (1, 2) => (1, 1) => (2, 1)\n",
      "(0, 0) => (0, 1) => (0, 2) => (0, 3) => (0, 4) => (1, 4) => (1, 3) => (1, 2) => (1, 1) => (2, 1) => (2, 2)\n",
      "(0, 0) => (0, 1) => (0, 2) => (0, 3) => (0, 4) => (1, 4) => (1, 3) => (1, 2) => (1, 1) => (2, 1) => (2, 2) => (2, 3)\n",
      "(0, 0) => (0, 1) => (0, 2) => (0, 3) => (0, 4) => (1, 4) => (1, 3) => (1, 2) => (1, 1) => (2, 1) => (2, 2) => (2, 3) => (2, 4)\n",
      "(0, 0) => (0, 1) => (0, 2) => (0, 3) => (0, 4) => (1, 4) => (1, 3) => (1, 2) => (1, 1) => (2, 1) => (2, 2) => (2, 3) => (2, 4) => (3, 4)\n",
      "(0, 0) => (0, 1) => (0, 2) => (0, 3) => (0, 4) => (1, 4) => (1, 3) => (1, 2) => (1, 1) => (2, 1) => (2, 2) => (2, 3) => (2, 4) => (3, 4) => (4, 4)\n"
     ]
    }
   ],
   "source": [
    "def agent(G, start_cord, end_cord):\n",
    "  visited = (start_cord, )\n",
    "  path = [start_cord]\n",
    " \n",
    "  while path[-1] != end_cord:\n",
    "    next_nodes = G.adj[path[-1]]\n",
    "    best = None\n",
    "\n",
    "    for node in list(next_nodes): \n",
    "      if node == end_cord:\n",
    "        path.append(node)\n",
    "        print(*path, sep = ' => ')\n",
    "        return path, visited\n",
    "      elif node not in visited:\n",
    "        if best is None or abs(node[0] - end_cord[0]) + abs(node[1] - end_cord[1]):\n",
    "          best = node\n",
    "\n",
    "    if best is None:\n",
    "      path.pop()\n",
    "    else:\n",
    "      path.append(best)\n",
    "      visited += (best,)\n",
    "\n",
    "    print(*path, sep = ' => ')\n",
    "\n",
    "\n",
    "\n",
    "path, visited = agent(G, start_cord, end_cord)"
   ]
  },
  {
   "cell_type": "markdown",
   "metadata": {},
   "source": [
    "#### Load graph"
   ]
  },
  {
   "cell_type": "code",
   "execution_count": 18,
   "metadata": {},
   "outputs": [
    {
     "data": {
      "image/png": "[encoded data removed]",
      "text/plain": [
       "<Figure size 500x500 with 1 Axes>"
      ]
     },
     "metadata": {},
     "output_type": "display_data"
    }
   ],
   "source": [
    "plt.figure(figsize=(5,5))\n",
    "pos = {(x,y):(y,-x) for x,y in G.nodes()}\n",
    "nx.draw(G, pos, with_labels=(pos, pos), node_size=50)\n",
    "nx.draw(G, pos, nodelist=visited, node_color='orange', node_size=50,)\n",
    "nx.draw(G, pos, nodelist=path, node_color='g', node_size=50,  edgelist=[(path[i], path[i+1]) for i in range(len(path)-1)], edge_color='g', width=2)\n",
    "\n",
    "plt.show()"
   ]
  }
 ],
 "metadata": {
  "kernelspec": {
   "display_name": "Python 3.10.8 64-bit",
   "language": "python",
   "name": "python3"
  },
  "language_info": {
   "codemirror_mode": {
    "name": "ipython",
    "version": 3
   },
   "file_extension": ".py",
   "mimetype": "text/x-python",
   "name": "python",
   "nbconvert_exporter": "python",
   "pygments_lexer": "ipython3",
   "version": "3.10.8 (tags/v3.10.8:aaaf517, Oct 11 2022, 16:50:30) [MSC v.1933 64 bit (AMD64)]"
  },
  "orig_nbformat": 4,
  "vscode": {
   "interpreter": {
    "hash": "7395c9e5ab8ccca52eafbb0e42692006da59600acbcaa86886de2ebe4e0d565e"
   }
  }
 },
 "nbformat": 4,
 "nbformat_minor": 2
}
