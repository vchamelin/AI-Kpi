{
 "cells": [
  {
   "cell_type": "code",
   "execution_count": null,
   "id": "ddd8bd33",
   "metadata": {},
   "outputs": [],
   "source": [
    "import networkx as nx\n",
    "import matplotlib.pyplot as plt\n",
    "import random"
   ]
  },
  {
   "cell_type": "code",
   "execution_count": null,
   "id": "a6b10565",
   "metadata": {},
   "outputs": [],
   "source": [
    "size = 4\n",
    "delete = 5"
   ]
  },
  {
   "cell_type": "code",
   "execution_count": null,
   "id": "3db689a7",
   "metadata": {},
   "outputs": [],
   "source": [
    "if(size < 2):\n",
    "    raise ValueError(\"size must be greater than 1\")\n",
    "maxDelete = 2**(size-1)\n",
    "if(maxDelete < delete):\n",
    "    raise ValueError(f\"removal should be no more than, {maxDelete}\")"
   ]
  },
  {
   "cell_type": "code",
   "execution_count": null,
   "id": "78cd8743",
   "metadata": {},
   "outputs": [],
   "source": [
    "G = nx.grid_2d_graph(size, size)"
   ]
  },
  {
   "cell_type": "code",
   "execution_count": null,
   "id": "4e801fec",
   "metadata": {},
   "outputs": [],
   "source": [
    "count = 0\n",
    "nodeList = list(G.nodes());\n",
    "\n",
    "while count < delete:\n",
    "    randomEdgeCol = random.randint(0, 1)\n",
    "    randomEdgeRow = random.randint(0, 1)\n",
    "    \n",
    "    randomNode = random.choice(nodeList)\n",
    "    nodeCol, nodeRow = randomNode[0] + randomEdgeCol, randomNode[1] + randomEdgeRow\n",
    "    \n",
    "    print(G.has_edge(randomNode, (nodeCol, nodeRow)))\n",
    "    if(G.has_edge(randomNode, (nodeCol, nodeRow))): \n",
    "        G.remove_edge(randomNode, (nodeCol, nodeRow))\n",
    "        if not nx.is_connected(G):\n",
    "            G.add_edge(randomNode, (nodeCol, nodeRow))\n",
    "        count += 1\n",
    "            \n",
    "    #print(count, randomEdge, (nodeCol + randomEdge, nodeRow + randomEdge), randomNode)\n",
    "#print(nodeList, nx.is_connected(G))\n"
   ]
  },
  {
   "cell_type": "code",
   "execution_count": null,
   "id": "86a448c8",
   "metadata": {},
   "outputs": [],
   "source": [
    "nx.draw(G, with_labels=True, font_weight='bold')"
   ]
  }
 ],
 "metadata": {
  "kernelspec": {
   "display_name": "Python 3 (ipykernel)",
   "language": "python",
   "name": "python3"
  },
  "language_info": {
   "codemirror_mode": {
    "name": "ipython",
    "version": 3
   },
   "file_extension": ".py",
   "mimetype": "text/x-python",
   "name": "python",
   "nbconvert_exporter": "python",
   "pygments_lexer": "ipython3",
   "version": "3.10.7"
  }
 },
 "nbformat": 4,
 "nbformat_minor": 5
}
