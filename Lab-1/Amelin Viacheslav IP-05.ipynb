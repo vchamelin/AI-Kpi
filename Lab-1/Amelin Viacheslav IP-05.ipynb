{
 "cells": [
  {
   "cell_type": "markdown",
   "id": "1baca8f2",
   "metadata": {},
   "source": [
    "# lab 1 Amelin Viacheslav IP-05\n",
    "Develop an algorithm for generating a road in the form of a graph. Where the vertices of the graph are intersections, and the edges of the graph are roads between intersections. The intersections should be arranged in a square grid.\n",
    "\n",
    "To execute the code, we need to specify size and delete. Size is the width and height of our graph. Size must be greater than 1. Delete is the number of edges to delete in the graph. This value should not exceed the maximum value of deleted edges in size (2**(size-1)) + 2.\n"
   ]
  },
  {
   "cell_type": "code",
   "execution_count": 34,
   "id": "3410ae3d",
   "metadata": {},
   "outputs": [],
   "source": [
    "import networkx as nx\n",
    "import matplotlib.pyplot as plt\n",
    "import random"
   ]
  },
  {
   "cell_type": "code",
   "execution_count": 35,
   "id": "a6b10565",
   "metadata": {},
   "outputs": [],
   "source": [
    "size = 5\n",
    "delete = 9"
   ]
  },
  {
   "cell_type": "code",
   "execution_count": 36,
   "id": "3db689a7",
   "metadata": {},
   "outputs": [],
   "source": [
    "if(size < 2):\n",
    "    raise ValueError(\"size must be greater than 1\")\n",
    "maxDelete = (2**(size-1)) + 2\n",
    "if(maxDelete < delete):\n",
    "    raise ValueError(f\"removal should be no more than, {maxDelete}\")"
   ]
  },
  {
   "cell_type": "code",
   "execution_count": 37,
   "id": "78cd8743",
   "metadata": {},
   "outputs": [],
   "source": [
    "G = nx.grid_2d_graph(size, size)"
   ]
  },
  {
   "cell_type": "markdown",
   "id": "47a4418d",
   "metadata": {},
   "source": [
    "## Algorithm\n",
    "\n",
    "The algorithm will work until the required number of edges is removed. Each time we have a vertex chosen at random, from which we randomly choose another vertex from which to remove an edge. If these vertices are not connected, it can be when either an edge is already removed or there is no suitable vertex, then we start all over again to select new nodes.   "
   ]
  },
  {
   "cell_type": "code",
   "execution_count": 38,
   "id": "4e801fec",
   "metadata": {},
   "outputs": [],
   "source": [
    "count = 0\n",
    "nodeList = list(G.nodes());\n",
    "\n",
    "while count < delete:\n",
    "    randomEdgeCol = random.randint(-1, 1)\n",
    "    randomEdgeRow = random.randint(-1, 1)\n",
    "    \n",
    "    randomNode = random.choice(nodeList)\n",
    "    nodeCol, nodeRow = randomNode[0] + randomEdgeCol, randomNode[1] + randomEdgeRow\n",
    "    \n",
    "    if(G.has_edge(randomNode, (nodeCol, nodeRow))): \n",
    "        G.remove_edge(randomNode, (nodeCol, nodeRow))\n",
    "        if not nx.is_connected(G):\n",
    "            G.add_edge(randomNode, (nodeCol, nodeRow))\n",
    "        else: count += 1"
   ]
  },
  {
   "cell_type": "code",
   "execution_count": 39,
   "id": "86a448c8",
   "metadata": {},
   "outputs": [
    {
     "data": {
      "image/png": "[encoded data removed]",
      "text/plain": [
       "<Figure size 500x500 with 1 Axes>"
      ]
     },
     "metadata": {},
     "output_type": "display_data"
    }
   ],
   "source": [
    "plt.figure(figsize=(5,5))\n",
    "pos = {(x,y):(y,-x) for x,y in G.nodes()}\n",
    "nx.draw(G, pos)"
   ]
  },
  {
   "cell_type": "code",
   "execution_count": null,
   "id": "e293d3e8",
   "metadata": {},
   "outputs": [],
   "source": []
  }
 ],
 "metadata": {
  "kernelspec": {
   "display_name": "Python 3.10.7 64-bit",
   "language": "python",
   "name": "python3"
  },
  "language_info": {
   "codemirror_mode": {
    "name": "ipython",
    "version": 3
   },
   "file_extension": ".py",
   "mimetype": "text/x-python",
   "name": "python",
   "nbconvert_exporter": "python",
   "pygments_lexer": "ipython3",
   "version": "3.10.7"
  },
  "vscode": {
   "interpreter": {
    "hash": "aee8b7b246df8f9039afb4144a1f6fd8d2ca17a180786b69acc140d282b71a49"
   }
  }
 },
 "nbformat": 4,
 "nbformat_minor": 5
}
