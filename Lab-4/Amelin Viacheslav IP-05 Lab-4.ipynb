{
 "cells": [
  {
   "attachments": {},
   "cell_type": "markdown",
   "metadata": {},
   "source": [
    "# lab 4 Amelin Viacheslav IP-05\n",
    "Develop an intelligent agent-machine that moves along the graph-path from the previous laboratory work according to the given rules and goal. Gain practical skills in working with intelligent agents."
   ]
  },
  {
   "cell_type": "code",
   "execution_count": 508,
   "metadata": {},
   "outputs": [],
   "source": [
    "import networkx as nx\n",
    "import matplotlib.pyplot as plt\n",
    "import random\n",
    "\n",
    "import numpy as np\n",
    "import keras\n",
    "from keras.datasets import mnist\n",
    "from keras.layers import Flatten, Dense"
   ]
  },
  {
   "cell_type": "code",
   "execution_count": 509,
   "metadata": {},
   "outputs": [],
   "source": [
    "(train_X, train_Y), (test_X, test_Y) = mnist.load_data()\n",
    "\n",
    "train_X = train_X / 255\n",
    "test_X = test_X / 255\n",
    "\n",
    "train_Y_cat = keras.utils.to_categorical(train_Y, 10)\n",
    "test_Y_cat = keras.utils.to_categorical(test_Y, 10)"
   ]
  },
  {
   "cell_type": "code",
   "execution_count": 510,
   "metadata": {},
   "outputs": [],
   "source": [
    "model = keras.Sequential([\n",
    "  Flatten(input_shape=(28, 28, 1)),\n",
    "  Dense(128, activation='relu'),\n",
    "  Dense(10, activation='softmax')\n",
    "])"
   ]
  },
  {
   "cell_type": "code",
   "execution_count": 511,
   "metadata": {},
   "outputs": [],
   "source": [
    "model.compile(optimizer='adam',\n",
    "             loss='categorical_crossentropy',\n",
    "             metrics=['accuracy'])"
   ]
  },
  {
   "cell_type": "code",
   "execution_count": 512,
   "metadata": {},
   "outputs": [
    {
     "name": "stdout",
     "output_type": "stream",
     "text": [
      "Epoch 1/5\n",
      "1500/1500 [==============================] - 4s 2ms/step - loss: 0.2912 - accuracy: 0.9178 - val_loss: 0.1592 - val_accuracy: 0.9546\n",
      "Epoch 2/5\n",
      "1500/1500 [==============================] - 3s 2ms/step - loss: 0.1308 - accuracy: 0.9619 - val_loss: 0.1180 - val_accuracy: 0.9657\n",
      "Epoch 3/5\n",
      "1500/1500 [==============================] - 3s 2ms/step - loss: 0.0897 - accuracy: 0.9730 - val_loss: 0.1072 - val_accuracy: 0.9688\n",
      "Epoch 4/5\n",
      "1500/1500 [==============================] - 3s 2ms/step - loss: 0.0668 - accuracy: 0.9798 - val_loss: 0.0946 - val_accuracy: 0.9724\n",
      "Epoch 5/5\n",
      "1500/1500 [==============================] - 3s 2ms/step - loss: 0.0511 - accuracy: 0.9851 - val_loss: 0.0987 - val_accuracy: 0.9687\n"
     ]
    },
    {
     "data": {
      "text/plain": [
       "<keras.callbacks.History at 0x1acc906cd90>"
      ]
     },
     "execution_count": 512,
     "metadata": {},
     "output_type": "execute_result"
    }
   ],
   "source": [
    "model.fit(train_X, train_Y_cat, batch_size=32, epochs=5, validation_split=0.2)"
   ]
  },
  {
   "cell_type": "code",
   "execution_count": 513,
   "metadata": {},
   "outputs": [
    {
     "name": "stdout",
     "output_type": "stream",
     "text": [
      "313/313 [==============================] - 1s 1ms/step - loss: 0.0864 - accuracy: 0.9747\n"
     ]
    },
    {
     "data": {
      "text/plain": [
       "[0.08638786524534225, 0.9746999740600586]"
      ]
     },
     "execution_count": 513,
     "metadata": {},
     "output_type": "execute_result"
    }
   ],
   "source": [
    "model.evaluate(test_X, test_Y_cat)"
   ]
  },
  {
   "cell_type": "markdown",
   "metadata": {},
   "source": [
    "#### Size road"
   ]
  },
  {
   "cell_type": "code",
   "execution_count": 514,
   "metadata": {},
   "outputs": [],
   "source": [
    "size = 5\n",
    "delete = 9\n",
    "count = 0\n",
    "\n",
    "left_model_num = 0\n",
    "rigth_model_num = 10000"
   ]
  },
  {
   "cell_type": "markdown",
   "metadata": {},
   "source": [
    "#### Check Error"
   ]
  },
  {
   "cell_type": "code",
   "execution_count": 515,
   "metadata": {},
   "outputs": [],
   "source": [
    "if(size < 2):\n",
    "    raise ValueError(\"size must be greater than 1\")\n",
    "maxDelete = (2**(size-1)) + 2\n",
    "if(maxDelete < delete):\n",
    "    raise ValueError(f\"removal should be no more than, {maxDelete}\")"
   ]
  },
  {
   "cell_type": "markdown",
   "metadata": {},
   "source": [
    "## Algorithm\n",
    "  "
   ]
  },
  {
   "cell_type": "markdown",
   "metadata": {},
   "source": [
    "#### Creating and modifying a graph"
   ]
  },
  {
   "cell_type": "code",
   "execution_count": 516,
   "metadata": {},
   "outputs": [],
   "source": [
    "def randomImg(left_num, rigth_num):\n",
    "  n = random.randint(left_num, rigth_num)\n",
    "  while True:\n",
    "    if(modelFindNum(test_X[n]) > 1):\n",
    "      return test_X[n], test_Y[n]\n",
    "    else:\n",
    "      return randomImg(left_num, rigth_num)\n",
    "\n",
    "def modelFindNum(img):\n",
    "  x = np.expand_dims(img, axis=0)\n",
    "  res = model.predict(x)\n",
    "  return np.argmax(res)"
   ]
  },
  {
   "cell_type": "code",
   "execution_count": 517,
   "metadata": {},
   "outputs": [
    {
     "name": "stdout",
     "output_type": "stream",
     "text": [
      "1/1 [==============================] - 0s 54ms/step\n",
      "1/1 [==============================] - 0s 20ms/step\n",
      "1/1 [==============================] - 0s 22ms/step\n",
      "1/1 [==============================] - 0s 22ms/step\n",
      "1/1 [==============================] - 0s 24ms/step\n",
      "1/1 [==============================] - 0s 18ms/step\n",
      "1/1 [==============================] - 0s 27ms/step\n",
      "1/1 [==============================] - 0s 25ms/step\n",
      "1/1 [==============================] - 0s 20ms/step\n",
      "1/1 [==============================] - 0s 18ms/step\n",
      "1/1 [==============================] - 0s 18ms/step\n",
      "1/1 [==============================] - 0s 18ms/step\n",
      "1/1 [==============================] - 0s 18ms/step\n",
      "1/1 [==============================] - 0s 21ms/step\n",
      "1/1 [==============================] - 0s 18ms/step\n",
      "1/1 [==============================] - 0s 18ms/step\n",
      "1/1 [==============================] - 0s 18ms/step\n",
      "1/1 [==============================] - 0s 18ms/step\n",
      "1/1 [==============================] - 0s 23ms/step\n",
      "1/1 [==============================] - 0s 21ms/step\n",
      "1/1 [==============================] - 0s 22ms/step\n",
      "1/1 [==============================] - 0s 20ms/step\n",
      "1/1 [==============================] - 0s 22ms/step\n",
      "1/1 [==============================] - 0s 28ms/step\n",
      "1/1 [==============================] - 0s 18ms/step\n",
      "1/1 [==============================] - 0s 18ms/step\n",
      "1/1 [==============================] - 0s 18ms/step\n",
      "1/1 [==============================] - 0s 20ms/step\n",
      "1/1 [==============================] - 0s 18ms/step\n",
      "1/1 [==============================] - 0s 19ms/step\n",
      "1/1 [==============================] - 0s 18ms/step\n"
     ]
    }
   ],
   "source": [
    "def road(G):\n",
    "    nodeList = list(G)\n",
    "    roadSpeed = {}\n",
    "    for node in nodeList:\n",
    "      img, speed = randomImg(left_model_num, rigth_model_num)\n",
    "      roadSpeed[node] = {'img':img, 'speed': speed}\n",
    "    return roadSpeed\n",
    "        \n",
    "G = nx.grid_2d_graph(size, size)\n",
    "roadMap = road(G)\n",
    "nodeList = list(roadMap)"
   ]
  },
  {
   "cell_type": "code",
   "execution_count": 518,
   "metadata": {},
   "outputs": [],
   "source": [
    "while count < delete:\n",
    "    randomEdgeCol = random.randint(-1, 1)\n",
    "    randomEdgeRow = random.randint(-1, 1)\n",
    "    \n",
    "    randomNode = random.choice(nodeList)\n",
    "    nodeCol, nodeRow = randomNode[0] + randomEdgeCol, randomNode[1] + randomEdgeRow\n",
    "    \n",
    "    if(G.has_edge(randomNode, (nodeCol, nodeRow))): \n",
    "        G.remove_edge(randomNode, (nodeCol, nodeRow))\n",
    "        if not nx.is_connected(G):\n",
    "            G.add_edge(randomNode, (nodeCol, nodeRow))\n",
    "        else: count += 1"
   ]
  },
  {
   "cell_type": "markdown",
   "metadata": {},
   "source": [
    "#### Load graph"
   ]
  },
  {
   "cell_type": "code",
   "execution_count": 519,
   "metadata": {},
   "outputs": [
    {
     "data": {
      "image/png": "[encoded data removed]",
      "text/plain": [
       "<Figure size 500x500 with 1 Axes>"
      ]
     },
     "metadata": {},
     "output_type": "display_data"
    }
   ],
   "source": [
    "plt.figure(figsize=(5,5))\n",
    "pos = {(x,y):(y,-x) for x,y in G.nodes()}\n",
    "nx.draw(G, pos, with_labels=(pos, pos), node_size=50)"
   ]
  },
  {
   "cell_type": "markdown",
   "metadata": {},
   "source": [
    "#### Enter start and end coordinates"
   ]
  },
  {
   "cell_type": "code",
   "execution_count": 520,
   "metadata": {},
   "outputs": [],
   "source": [
    "start_cord = (0, 0)\n",
    "end_cord = (4, 4)"
   ]
  },
  {
   "cell_type": "markdown",
   "metadata": {},
   "source": [
    "#### Check Error"
   ]
  },
  {
   "cell_type": "code",
   "execution_count": 521,
   "metadata": {},
   "outputs": [],
   "source": [
    "if((size, size) <= end_cord and (size, size) <= start_cord):\n",
    "  raise ValueError(f\"Should be less {size}\")\n",
    "\n",
    "if(end_cord > (0, 0) and start_cord > (0, 0)):\n",
    "  raise ValueError(\"Must be greater than zero\")"
   ]
  },
  {
   "cell_type": "markdown",
   "metadata": {},
   "source": [
    "### Agent"
   ]
  },
  {
   "cell_type": "code",
   "execution_count": 522,
   "metadata": {},
   "outputs": [
    {
     "name": "stdout",
     "output_type": "stream",
     "text": [
      "1/1 [==============================] - 0s 18ms/step\n",
      "1/1 [==============================] - 0s 19ms/step\n",
      "1/1 [==============================] - 0s 19ms/step\n",
      "1/1 [==============================] - 0s 17ms/step\n",
      "1/1 [==============================] - 0s 18ms/step\n",
      "1/1 [==============================] - 0s 18ms/step\n",
      "1/1 [==============================] - 0s 21ms/step\n",
      "1/1 [==============================] - 0s 23ms/step\n",
      "1/1 [==============================] - 0s 18ms/step\n"
     ]
    }
   ],
   "source": [
    "def speedNode(coord):\n",
    "  number = -1\n",
    "  for node in nodeList:\n",
    "    number += 1\n",
    "    if coord == node:\n",
    "      return modelFindNum(roadMap[node]['img'])\n",
    "\n",
    "def agent(G, start_cord, end_cord):\n",
    "  visited = (start_cord, )\n",
    "  path = [start_cord]\n",
    "  speed = [speedNode(start_cord)]\n",
    "\n",
    "  while path[-1] != end_cord:\n",
    "    next_nodes = G.adj[path[-1]]\n",
    "    best = None\n",
    "\n",
    "    for node in list(next_nodes): \n",
    "      if node == end_cord:\n",
    "        path.append(node)\n",
    "        speed.append(speedNode(end_cord))\n",
    "        return path, visited, speed\n",
    "      elif node not in visited:\n",
    "        if best is None or abs(node[0] - end_cord[0]) + abs(node[1] - end_cord[1]):\n",
    "          best = node\n",
    "\n",
    "    if best is None:\n",
    "      path.pop()\n",
    "      speed.pop()\n",
    "    else:\n",
    "      path.append(best)\n",
    "      speed.append(speedNode(best))\n",
    "      visited += (best,)\n",
    "\n",
    "\n",
    "path, visited, speed = agent(G, start_cord, end_cord)"
   ]
  },
  {
   "cell_type": "code",
   "execution_count": 523,
   "metadata": {},
   "outputs": [
    {
     "name": "stdout",
     "output_type": "stream",
     "text": [
      "Path:\n",
      "(0, 0) => (1, 0) => (1, 1) => (1, 2) => (2, 2) => (2, 3) => (2, 4) => (3, 4) => (4, 4)\n",
      "Real speed:\n",
      "7 => 5 => 5 => 2 => 7 => 8 => 2 => 3 => 9\n",
      "Car speed:\n",
      "7 => 5 => 5 => 2 => 7 => 8 => 2 => 3 => 9\n"
     ]
    }
   ],
   "source": [
    "print('Path:')\n",
    "print(*path, sep=' => ')\n",
    "\n",
    "print('Real speed:')\n",
    "print(*[roadMap[node]['speed'] for node in path], sep=' => ')\n",
    "\n",
    "print('Car speed:')\n",
    "print(*speed, sep=' => ')"
   ]
  },
  {
   "cell_type": "markdown",
   "metadata": {},
   "source": [
    "#### Load graph"
   ]
  },
  {
   "cell_type": "code",
   "execution_count": 524,
   "metadata": {},
   "outputs": [
    {
     "data": {
      "image/png": "[encoded data removed]",
      "text/plain": [
       "<Figure size 500x500 with 1 Axes>"
      ]
     },
     "metadata": {},
     "output_type": "display_data"
    }
   ],
   "source": [
    "plt.figure(figsize=(5,5))\n",
    "pos = {(x,y):(y,-x) for x,y in nodeList}\n",
    "nx.draw(G, pos, with_labels=(pos, pos), node_size=50)\n",
    "nx.draw(G, pos, nodelist=visited, node_color='orange', node_size=50,)\n",
    "nx.draw(G, pos, nodelist=path, node_color='g', node_size=50,  edgelist=[(path[i], path[i+1]) for i in range(len(path)-1)], edge_color='g', width=2)\n",
    "\n",
    "plt.show()"
   ]
  }
 ],
 "metadata": {
  "kernelspec": {
   "display_name": "Python 3.10.8 64-bit",
   "language": "python",
   "name": "python3"
  },
  "language_info": {
   "codemirror_mode": {
    "name": "ipython",
    "version": 3
   },
   "file_extension": ".py",
   "mimetype": "text/x-python",
   "name": "python",
   "nbconvert_exporter": "python",
   "pygments_lexer": "ipython3",
   "version": "3.10.8"
  },
  "orig_nbformat": 4,
  "vscode": {
   "interpreter": {
    "hash": "7395c9e5ab8ccca52eafbb0e42692006da59600acbcaa86886de2ebe4e0d565e"
   }
  }
 },
 "nbformat": 4,
 "nbformat_minor": 2
}
