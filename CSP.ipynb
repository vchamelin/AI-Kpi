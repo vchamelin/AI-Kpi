{
  "cells": [
    {
      "attachments": {},
      "cell_type": "markdown",
      "metadata": {
        "id": "ENXwfZndcc4D"
      },
      "source": [
        "# Базовий фреймворк для задач задоволення обмежень"
      ]
    },
    {
      "attachments": {},
      "cell_type": "markdown",
      "metadata": {
        "id": "cU6aG_tpcEKU"
      },
      "source": [
        "Базова модель задачі задоволення обмежень:"
      ]
    },
    {
      "cell_type": "code",
      "execution_count": 300,
      "metadata": {
        "id": "h5iBKt3wqje8"
      },
      "outputs": [],
      "source": [
        "from typing import Generic, TypeVar, Dict, List, Optional\n",
        "from abc import ABC, abstractmethod\n",
        "\n",
        "V = TypeVar('V') # variable type\n",
        "D = TypeVar('D') # domain type\n",
        "\n",
        "# Base class for all constraints\n",
        "class Constraint(Generic[V, D], ABC):\n",
        "    def __init__(self, variables: List[V]) -> None:\n",
        "        self.variables = variables\n",
        "\n",
        "    @abstractmethod\n",
        "    def satisfied(self, assignment: Dict[V, D]) -> bool:\n",
        "        ...\n",
        "\n",
        "# A constraint satisfaction problem consists of variables of type V\n",
        "# that have ranges of values known as domains of type D and constraints\n",
        "# that determine whether a particular variable's domain selection is valid\n",
        "class CSPBase(Generic[V, D]):\n",
        "    def __init__(self, variables: List[V], domains: Dict[V, List[D]]) -> None:\n",
        "        self.variables: List[V] = variables # variables to be constrained\n",
        "        self.domains: Dict[V, List[D]] = domains # domain of each variable\n",
        "        self.node_count = 0\n",
        "        self.constraints: Dict[V, List[Constraint[V, D]]] = {}\n",
        "        for variable in self.variables:\n",
        "            self.constraints[variable] = []\n",
        "            if variable not in self.domains:\n",
        "                raise LookupError(\"Every variable should have a domain assigned to it.\")\n",
        "\n",
        "    def add_constraint(self, constraint: Constraint[V, D]) -> None:\n",
        "        for variable in constraint.variables:\n",
        "            if variable not in self.variables:\n",
        "                raise LookupError(\"Variable in constraint not in CSP\")\n",
        "            else:\n",
        "                self.constraints[variable].append(constraint)\n",
        "\n",
        "    # Check if the value assignment is consistent by checking all constraints\n",
        "    # for the given variable against it\n",
        "    def consistent(self, variable: V, assignment: Dict[V, D]) -> bool:\n",
        "        for constraint in self.constraints[variable]:\n",
        "            if not constraint.satisfied(assignment):\n",
        "                return False\n",
        "        return True\n",
        "\n"
      ]
    },
    {
      "cell_type": "code",
      "execution_count": 301,
      "metadata": {},
      "outputs": [],
      "source": [
        "class CSP(CSPBase[V, D]):\n",
        "    def __init__(self, variables: List[V], domains: Dict[V, List[D]]) -> None:\n",
        "        super().__init__(variables, domains)\n",
        "\n",
        "    def backtracking_search(self, assignment: Dict[V, D] = {}) -> Optional[Dict[V, D]]:\n",
        "        if len(assignment) != len(self.variables):\n",
        "            self.node_count += len(self.domains[self.variables[len(assignment)]])\n",
        "        \n",
        "        if len(assignment) == len(self.variables):\n",
        "            return assignment\n",
        "\n",
        "        unassigned: List[V] = [v for v in self.variables if v not in assignment]\n",
        "        first: V = unassigned[0]\n",
        "        for value in self.domains[first]:\n",
        "            local_assignment = assignment.copy()\n",
        "            local_assignment[first] = value\n",
        "            if self.consistent(first, local_assignment):\n",
        "                result: Optional[Dict[V, D]] = self.backtracking_search(local_assignment)\n",
        "                if result is not None:\n",
        "                    return result\n",
        "        return None\n"
      ]
    },
    {
      "cell_type": "code",
      "execution_count": 302,
      "metadata": {},
      "outputs": [],
      "source": [
        "class CSPWithHeuristics(CSPBase[V, D]):\n",
        "    def __init__(self, variables: List[V], domains: Dict[V, List[D]]):\n",
        "        super().__init__(variables, domains)\n",
        "\n",
        "    def mcv(self, unassigned: List[V]) -> V:\n",
        "        return min(unassigned, key=lambda var: len(self.domains[var]))\n",
        "\n",
        "    def lcv(self, variable: V) -> List[D]:\n",
        "        if len(self.domains[variable]) == 1:\n",
        "            return self.domains[variable]\n",
        "        else:\n",
        "            count = {}\n",
        "            for value in self.domains[variable]:\n",
        "                self.assignment[variable] = value\n",
        "                count[value] = sum(self.consistent(var, self.assignment) for var in self.variables if var not in self.assignment)\n",
        "                del self.assignment[variable]\n",
        "        return sorted(self.domains[variable], key=lambda x: -count[x])\n",
        "\n",
        "            \n",
        "    def backtracking_search(self, assignment: Dict[V, D] = {}) -> Optional[Dict[V, D]]:\n",
        "        self.assignment = assignment\n",
        "        \n",
        "        if len(assignment) != len(self.variables):\n",
        "            self.node_count += len(self.domains[self.mcv([v for v in self.variables if v not in assignment])])\n",
        "        \n",
        "        if len(assignment) == len(self.variables):\n",
        "            return assignment\n",
        "\n",
        "        unassigned: List[V] = [v for v in self.variables if v not in assignment]\n",
        "        variable: V = self.mcv(unassigned)\n",
        "        for value in self.lcv(variable):\n",
        "            local_assignment = assignment.copy()\n",
        "            local_assignment[variable] = value\n",
        "            if self.consistent(variable, local_assignment):\n",
        "                result: Optional[Dict[V, D]] = self.backtracking_search(local_assignment)\n",
        "                if result is not None:\n",
        "                    return result\n",
        "        return None"
      ]
    },
    {
      "cell_type": "code",
      "execution_count": 303,
      "metadata": {},
      "outputs": [],
      "source": [
        "class CSPBeamSearch(CSPBase[V, D]):\n",
        "    def __init__(self, variables: List[V], domains: Dict[V, List[D]], beam_width: int) -> None:\n",
        "        super().__init__(variables, domains)\n",
        "        self.beam_width = beam_width\n",
        "\n",
        "    def heuristic(self, assignment: Dict[V, D]) -> int:\n",
        "        num_conflicts = 0\n",
        "        for variable in assignment:\n",
        "            for constraint in self.constraints[variable]:\n",
        "                if not constraint.satisfied(assignment):\n",
        "                    num_conflicts += 1\n",
        "        return num_conflicts\n",
        "\n",
        "    def backtracking_search(self, assignment: Dict[V, D] = {}) -> Optional[Dict[V, D]]:\n",
        "        assignments = [assignment]\n",
        "\n",
        "        while assignments:\n",
        "            new_assignments = []\n",
        "            for assignment in assignments:\n",
        "                if len(assignment) == len(self.variables):\n",
        "                    return assignment\n",
        "                \n",
        "                unassigned = [v for v in self.variables if v not in assignment]\n",
        "                variable = unassigned[0]\n",
        "                \n",
        "                # count every node when it's generated\n",
        "                self.node_count += len(self.domains[variable])\n",
        "                \n",
        "                for value in self.domains[variable]:\n",
        "                    new_assignment = assignment.copy()\n",
        "                    new_assignment[variable] = value\n",
        "                    if self.consistent(variable, new_assignment):\n",
        "                        new_assignments.append(new_assignment)\n",
        "\n",
        "            new_assignments.sort(key=self.heuristic)\n",
        "            assignments = new_assignments[:self.beam_width]\n",
        "\n",
        "        return None\n",
        "\n"
      ]
    },
    {
      "attachments": {},
      "cell_type": "markdown",
      "metadata": {
        "id": "Bn9pSeWEZ-r1"
      },
      "source": [
        "# Задача розфарбовування карти"
      ]
    },
    {
      "attachments": {},
      "cell_type": "markdown",
      "metadata": {
        "id": "5_rFl6uTay_0"
      },
      "source": [
        "Реалізація обмеження задачі:"
      ]
    },
    {
      "cell_type": "code",
      "execution_count": 304,
      "metadata": {
        "id": "sU8KrIPoqnR3"
      },
      "outputs": [],
      "source": [
        "class MapColoringConstraint(Constraint[str, str]):\n",
        "    def __init__(self, place1: str, place2: str) -> None:\n",
        "        super().__init__([place1, place2])\n",
        "        self.place1: str = place1\n",
        "        self.place2: str = place2\n",
        "\n",
        "    def satisfied(self, assignment: Dict[str, str]) -> bool:\n",
        "        # If either place is not in the assignment then it is not\n",
        "        # yet possible for their solution to be conflicting\n",
        "        if self.place1 not in assignment or self.place2 not in assignment:\n",
        "            return True\n",
        "        # check the color assigned to place1 is not the same as the\n",
        "        # color assigned to place2\n",
        "        return assignment[self.place1] != assignment[self.place2]"
      ]
    },
    {
      "attachments": {},
      "cell_type": "markdown",
      "metadata": {},
      "source": [
        "#### Рішення для Франції:"
      ]
    },
    {
      "cell_type": "code",
      "execution_count": 305,
      "metadata": {},
      "outputs": [],
      "source": [
        "import networkx as nx\n",
        "import matplotlib.pyplot as plt\n",
        "\n",
        "variables: List[str] = [\n",
        "    'Hauts-de-France', 'Normandie', 'Ile-de-France', 'Grand-Est', 'Bretagne', \n",
        "    'Pays-de-la-Loire', 'Centre-Val de Loire', 'Bourgone-Franche-comte', \n",
        "    'Nouvelle-Aquitaine', 'Auvergne-Rhone-Alpes', 'Occitanle', \n",
        "    'Provence-Alpes-Cote d\\'Azur', 'Corsica'\n",
        "]\n",
        "\n",
        "domains: Dict[str, List[str]] = {}\n",
        "for variable in variables:\n",
        "    domains[variable] = [\"red\", \"green\", \"orange\", \"pink\", \"purple\", \"blue\"]\n",
        "\n",
        "edges = [\n",
        "    ('Hauts-de-France', 'Normandie'),\n",
        "    ('Hauts-de-France', 'Ile-de-France'),\n",
        "    ('Hauts-de-France', 'Grand-Est'),\n",
        "    ('Normandie', 'Ile-de-France'),\n",
        "    ('Normandie', 'Bretagne'),\n",
        "    ('Normandie', 'Pays-de-la-Loire'),\n",
        "    ('Normandie', 'Centre-Val de Loire'),\n",
        "    ('Ile-de-France', 'Grand-Est'),\n",
        "    ('Ile-de-France', 'Centre-Val de Loire'),\n",
        "    ('Ile-de-France', 'Bourgone-Franche-comte'),\n",
        "    ('Grand-Est', 'Bourgone-Franche-comte'),\n",
        "    ('Pays-de-la-Loire', 'Bretagne'),\n",
        "    ('Pays-de-la-Loire', 'Nouvelle-Aquitaine'),\n",
        "    ('Pays-de-la-Loire', 'Centre-Val de Loire'),\n",
        "    ('Centre-Val de Loire', 'Bourgone-Franche-comte'),\n",
        "    ('Centre-Val de Loire', 'Auvergne-Rhone-Alpes'),\n",
        "    ('Centre-Val de Loire', 'Nouvelle-Aquitaine'),\n",
        "    ('Bourgone-Franche-comte', 'Auvergne-Rhone-Alpes'),\n",
        "    ('Nouvelle-Aquitaine', 'Auvergne-Rhone-Alpes'),\n",
        "    ('Nouvelle-Aquitaine', 'Occitanle'),\n",
        "    ('Auvergne-Rhone-Alpes', 'Occitanle'),\n",
        "    ('Auvergne-Rhone-Alpes', 'Provence-Alpes-Cote d\\'Azur'),\n",
        "    ('Occitanle', 'Provence-Alpes-Cote d\\'Azur'),\n",
        "]\n",
        "\n"
      ]
    },
    {
      "cell_type": "code",
      "execution_count": 306,
      "metadata": {},
      "outputs": [],
      "source": [
        "# Create a CSP instance for each algorithm\n",
        "csp_beam: CSPBeamSearch[str, str] = CSPBeamSearch(variables, domains, beam_width=10)\n",
        "csp_back: CSP[str, str] = CSP(variables, domains)\n",
        "csp_heur: CSPWithHeuristics[str, str] = CSPWithHeuristics(variables, domains)\n",
        "\n",
        "# Add the constraints to each CSP instance\n",
        "for edge in edges:\n",
        "    csp_beam.add_constraint(MapColoringConstraint(*edge))\n",
        "    csp_back.add_constraint(MapColoringConstraint(*edge))\n",
        "    csp_heur.add_constraint(MapColoringConstraint(*edge))"
      ]
    },
    {
      "attachments": {},
      "cell_type": "markdown",
      "metadata": {},
      "source": [
        "### Run the algorithms and record the time taken"
      ]
    },
    {
      "cell_type": "code",
      "execution_count": 307,
      "metadata": {},
      "outputs": [
        {
          "name": "stdout",
          "output_type": "stream",
          "text": [
            "Beam Search took 0.008536338806152344 seconds.\n",
            "Current memory usage: 0.01177 MiB\n",
            "Peak memory usage: 0.05243 MiB\n",
            "Number of nodes viewed: 702 \n",
            "\n",
            "Backtracking took 0.0009722709655761719 seconds.\n",
            "Current memory usage: 0.008576 MiB\n",
            "Peak memory usage: 0.019708 MiB\n",
            "Number of nodes viewed: 78 \n",
            "\n",
            "Backtracking with MCV and LCV heuristics took 0.0009987354278564453 seconds.\n",
            "Current memory usage: 0.010722 MiB\n",
            "Peak memory usage: 0.021506 MiB\n",
            "Number of nodes viewed: 78 \n",
            "\n",
            "All algorithms found the same solution.\n"
          ]
        }
      ],
      "source": [
        "import time\n",
        "import tracemalloc\n",
        "# Beam Search\n",
        "tracemalloc.start()\n",
        "start_time = time.time()\n",
        "solution_beam = csp_beam.backtracking_search()\n",
        "end_time = time.time()\n",
        "current, peak = tracemalloc.get_traced_memory()\n",
        "tracemalloc.stop()\n",
        "print(f\"Beam Search took {end_time - start_time} seconds.\")\n",
        "print(f\"Current memory usage: {current / 10**6} MiB\")\n",
        "print(f\"Peak memory usage: {peak / 10**6} MiB\")\n",
        "print(f\"Number of nodes viewed: {csp_beam.node_count} \\n\")\n",
        "\n",
        "# Backtracking\n",
        "tracemalloc.start()\n",
        "start_time = time.time()\n",
        "solution_back = csp_back.backtracking_search()\n",
        "end_time = time.time()\n",
        "current, peak = tracemalloc.get_traced_memory()\n",
        "tracemalloc.stop()\n",
        "print(f\"Backtracking took {end_time - start_time} seconds.\")\n",
        "print(f\"Current memory usage: {current / 10**6} MiB\")\n",
        "print(f\"Peak memory usage: {peak / 10**6} MiB\")\n",
        "print(f\"Number of nodes viewed: {csp_back.node_count} \\n\") # corrected here\n",
        "\n",
        "# Backtracking with MCV and LCV heuristics\n",
        "tracemalloc.start()\n",
        "start_time = time.time()\n",
        "solution_heur = csp_heur.backtracking_search()\n",
        "end_time = time.time()\n",
        "current, peak = tracemalloc.get_traced_memory()\n",
        "tracemalloc.stop()\n",
        "print(f\"Backtracking with MCV and LCV heuristics took {end_time - start_time} seconds.\")\n",
        "print(f\"Current memory usage: {current / 10**6} MiB\")\n",
        "print(f\"Peak memory usage: {peak / 10**6} MiB\")\n",
        "print(f\"Number of nodes viewed: {csp_heur.node_count} \\n\") # corrected here\n",
        "\n",
        "# Comparison\n",
        "if solution_beam is None and solution_back is None and solution_heur is None:\n",
        "    print(\"No algorithm found a solution.\")\n",
        "elif solution_beam is None:\n",
        "    print(\"Only Backtracking and Backtracking + MCV + LCV found a solution.\")\n",
        "elif solution_back is None:\n",
        "    print(\"Only Beam Search and Backtracking + MCV + LCV found a solution.\")\n",
        "elif solution_heur is None:\n",
        "    print(\"Only Beam Search and Backtracking found a solution.\")\n",
        "elif solution_beam == solution_back and solution_back == solution_heur:\n",
        "    print(\"All algorithms found the same solution.\")\n",
        "else:\n",
        "    print(\"The algorithms found different solutions.\")\n"
      ]
    },
    {
      "cell_type": "code",
      "execution_count": 309,
      "metadata": {},
      "outputs": [
        {
          "ename": "KeyError",
          "evalue": "'A'",
          "output_type": "error",
          "traceback": [
            "\u001b[1;31m---------------------------------------------------------------------------\u001b[0m",
            "\u001b[1;31mKeyError\u001b[0m                                  Traceback (most recent call last)",
            "\u001b[1;32md:\\Code\\AI\\AI-Kpi\\CSP.ipynb Cell 16\u001b[0m in \u001b[0;36m2\n\u001b[0;32m     <a href='vscode-notebook-cell:/d%3A/Code/AI/AI-Kpi/CSP.ipynb#X20sZmlsZQ%3D%3D?line=9'>10</a>\u001b[0m pos \u001b[39m=\u001b[39m {\n\u001b[0;32m     <a href='vscode-notebook-cell:/d%3A/Code/AI/AI-Kpi/CSP.ipynb#X20sZmlsZQ%3D%3D?line=10'>11</a>\u001b[0m     \u001b[39m'\u001b[39m\u001b[39mHauts-de-France\u001b[39m\u001b[39m'\u001b[39m: [\u001b[39m0.3\u001b[39m, \u001b[39m1.2\u001b[39m],\n\u001b[0;32m     <a href='vscode-notebook-cell:/d%3A/Code/AI/AI-Kpi/CSP.ipynb#X20sZmlsZQ%3D%3D?line=11'>12</a>\u001b[0m     \u001b[39m'\u001b[39m\u001b[39mNormandie\u001b[39m\u001b[39m'\u001b[39m: [\u001b[39m0.3\u001b[39m, \u001b[39m1\u001b[39m],\n\u001b[1;32m   (...)\u001b[0m\n\u001b[0;32m     <a href='vscode-notebook-cell:/d%3A/Code/AI/AI-Kpi/CSP.ipynb#X20sZmlsZQ%3D%3D?line=22'>23</a>\u001b[0m     \u001b[39m'\u001b[39m\u001b[39mCorsica\u001b[39m\u001b[39m'\u001b[39m: [\u001b[39m0.7\u001b[39m, \u001b[39m0.2\u001b[39m]\n\u001b[0;32m     <a href='vscode-notebook-cell:/d%3A/Code/AI/AI-Kpi/CSP.ipynb#X20sZmlsZQ%3D%3D?line=23'>24</a>\u001b[0m }\n\u001b[0;32m     <a href='vscode-notebook-cell:/d%3A/Code/AI/AI-Kpi/CSP.ipynb#X20sZmlsZQ%3D%3D?line=25'>26</a>\u001b[0m plt\u001b[39m.\u001b[39mfigure(figsize\u001b[39m=\u001b[39m(\u001b[39m8\u001b[39m, \u001b[39m8\u001b[39m))\n\u001b[1;32m---> <a href='vscode-notebook-cell:/d%3A/Code/AI/AI-Kpi/CSP.ipynb#X20sZmlsZQ%3D%3D?line=26'>27</a>\u001b[0m nx\u001b[39m.\u001b[39mdraw_networkx_nodes(G, pos, node_color\u001b[39m=\u001b[39m[solution_beam[n] \u001b[39mfor\u001b[39;00m n \u001b[39min\u001b[39;00m G\u001b[39m.\u001b[39mnodes])\n\u001b[0;32m     <a href='vscode-notebook-cell:/d%3A/Code/AI/AI-Kpi/CSP.ipynb#X20sZmlsZQ%3D%3D?line=27'>28</a>\u001b[0m nx\u001b[39m.\u001b[39mdraw_networkx_edges(G, pos, width\u001b[39m=\u001b[39m\u001b[39m2\u001b[39m, alpha\u001b[39m=\u001b[39m\u001b[39m0.5\u001b[39m)\n\u001b[0;32m     <a href='vscode-notebook-cell:/d%3A/Code/AI/AI-Kpi/CSP.ipynb#X20sZmlsZQ%3D%3D?line=28'>29</a>\u001b[0m nx\u001b[39m.\u001b[39mdraw_networkx_labels(G, pos, font_size\u001b[39m=\u001b[39m\u001b[39m8\u001b[39m)\n",
            "\u001b[1;32md:\\Code\\AI\\AI-Kpi\\CSP.ipynb Cell 16\u001b[0m in \u001b[0;36m2\n\u001b[0;32m     <a href='vscode-notebook-cell:/d%3A/Code/AI/AI-Kpi/CSP.ipynb#X20sZmlsZQ%3D%3D?line=9'>10</a>\u001b[0m pos \u001b[39m=\u001b[39m {\n\u001b[0;32m     <a href='vscode-notebook-cell:/d%3A/Code/AI/AI-Kpi/CSP.ipynb#X20sZmlsZQ%3D%3D?line=10'>11</a>\u001b[0m     \u001b[39m'\u001b[39m\u001b[39mHauts-de-France\u001b[39m\u001b[39m'\u001b[39m: [\u001b[39m0.3\u001b[39m, \u001b[39m1.2\u001b[39m],\n\u001b[0;32m     <a href='vscode-notebook-cell:/d%3A/Code/AI/AI-Kpi/CSP.ipynb#X20sZmlsZQ%3D%3D?line=11'>12</a>\u001b[0m     \u001b[39m'\u001b[39m\u001b[39mNormandie\u001b[39m\u001b[39m'\u001b[39m: [\u001b[39m0.3\u001b[39m, \u001b[39m1\u001b[39m],\n\u001b[1;32m   (...)\u001b[0m\n\u001b[0;32m     <a href='vscode-notebook-cell:/d%3A/Code/AI/AI-Kpi/CSP.ipynb#X20sZmlsZQ%3D%3D?line=22'>23</a>\u001b[0m     \u001b[39m'\u001b[39m\u001b[39mCorsica\u001b[39m\u001b[39m'\u001b[39m: [\u001b[39m0.7\u001b[39m, \u001b[39m0.2\u001b[39m]\n\u001b[0;32m     <a href='vscode-notebook-cell:/d%3A/Code/AI/AI-Kpi/CSP.ipynb#X20sZmlsZQ%3D%3D?line=23'>24</a>\u001b[0m }\n\u001b[0;32m     <a href='vscode-notebook-cell:/d%3A/Code/AI/AI-Kpi/CSP.ipynb#X20sZmlsZQ%3D%3D?line=25'>26</a>\u001b[0m plt\u001b[39m.\u001b[39mfigure(figsize\u001b[39m=\u001b[39m(\u001b[39m8\u001b[39m, \u001b[39m8\u001b[39m))\n\u001b[1;32m---> <a href='vscode-notebook-cell:/d%3A/Code/AI/AI-Kpi/CSP.ipynb#X20sZmlsZQ%3D%3D?line=26'>27</a>\u001b[0m nx\u001b[39m.\u001b[39mdraw_networkx_nodes(G, pos, node_color\u001b[39m=\u001b[39m[solution_beam[n] \u001b[39mfor\u001b[39;00m n \u001b[39min\u001b[39;00m G\u001b[39m.\u001b[39mnodes])\n\u001b[0;32m     <a href='vscode-notebook-cell:/d%3A/Code/AI/AI-Kpi/CSP.ipynb#X20sZmlsZQ%3D%3D?line=27'>28</a>\u001b[0m nx\u001b[39m.\u001b[39mdraw_networkx_edges(G, pos, width\u001b[39m=\u001b[39m\u001b[39m2\u001b[39m, alpha\u001b[39m=\u001b[39m\u001b[39m0.5\u001b[39m)\n\u001b[0;32m     <a href='vscode-notebook-cell:/d%3A/Code/AI/AI-Kpi/CSP.ipynb#X20sZmlsZQ%3D%3D?line=28'>29</a>\u001b[0m nx\u001b[39m.\u001b[39mdraw_networkx_labels(G, pos, font_size\u001b[39m=\u001b[39m\u001b[39m8\u001b[39m)\n",
            "\u001b[1;31mKeyError\u001b[0m: 'A'"
          ]
        },
        {
          "data": {
            "text/plain": [
              "<Figure size 800x800 with 0 Axes>"
            ]
          },
          "metadata": {},
          "output_type": "display_data"
        }
      ],
      "source": [
        "if solution_beam is not None and solution_back is not None:\n",
        "    G = nx.Graph()\n",
        "    for node, color in solution_beam.items():\n",
        "        G.add_node(node, color=color)\n",
        "\n",
        "    G.add_edges_from(edges)\n",
        "\n",
        "    pos = nx.spring_layout(G)\n",
        "\n",
        "    pos = {\n",
        "        'Hauts-de-France': [0.3, 1.2],\n",
        "        'Normandie': [0.3, 1],\n",
        "        'Ile-de-France': [0.5, 0.9],\n",
        "        'Grand-Est': [0.7, 1.1],\n",
        "        'Bretagne': [0.1, 0.8],\n",
        "        'Pays-de-la-Loire': [0.2, 0.6],\n",
        "        'Centre-Val de Loire': [0.4, 0.7],\n",
        "        'Bourgone-Franche-comte': [0.6, 0.8],\n",
        "        'Nouvelle-Aquitaine': [0.2, 0.4],\n",
        "        'Auvergne-Rhone-Alpes': [0.6, 0.6],\n",
        "        'Occitanle': [0.4, 0.3],\n",
        "        'Provence-Alpes-Cote d\\'Azur': [0.6, 0.4], \n",
        "        'Corsica': [0.7, 0.2]\n",
        "    }\n",
        "\n",
        "    plt.figure(figsize=(8, 8))\n",
        "    nx.draw_networkx_nodes(G, pos, node_color=[solution_beam[n] for n in G.nodes])\n",
        "    nx.draw_networkx_edges(G, pos, width=2, alpha=0.5)\n",
        "    nx.draw_networkx_labels(G, pos, font_size=8)\n",
        "    plt.show()"
      ]
    }
  ],
  "metadata": {
    "colab": {
      "provenance": [],
      "toc_visible": true
    },
    "kernelspec": {
      "display_name": "Python 3",
      "name": "python3"
    },
    "language_info": {
      "codemirror_mode": {
        "name": "ipython",
        "version": 3
      },
      "file_extension": ".py",
      "mimetype": "text/x-python",
      "name": "python",
      "nbconvert_exporter": "python",
      "pygments_lexer": "ipython3",
      "version": "3.10.8"
    }
  },
  "nbformat": 4,
  "nbformat_minor": 0
}
